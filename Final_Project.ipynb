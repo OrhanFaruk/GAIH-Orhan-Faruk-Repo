{
  "nbformat": 4,
  "nbformat_minor": 0,
  "metadata": {
    "colab": {
      "name": "Final Project",
      "provenance": [],
      "authorship_tag": "ABX9TyNjtIRJrFO7n73QN44BGEQ5",
      "include_colab_link": true
    },
    "kernelspec": {
      "name": "python3",
      "display_name": "Python 3"
    }
  },
  "cells": [
    {
      "cell_type": "markdown",
      "metadata": {
        "id": "view-in-github",
        "colab_type": "text"
      },
      "source": [
        "<a href=\"https://colab.research.google.com/github/OrhanFaruk/GAIH-Orhan-Faruk-Repo/blob/main/Final_Project.ipynb\" target=\"_parent\"><img src=\"https://colab.research.google.com/assets/colab-badge.svg\" alt=\"Open In Colab\"/></a>"
      ]
    },
    {
      "cell_type": "code",
      "metadata": {
        "id": "Me0G3VEbOBLH"
      },
      "source": [
        "q1 = \"\"\"Elma hangi renktedir?\r\n",
        "a. Mavi\r\n",
        "b. Mor\r\n",
        "c. Pembe\r\n",
        "d. Kırmızı\"\"\"\r\n",
        "q2 = \"\"\"Elma kelimesi kaç harften oluşur?\r\n",
        "a. 3\r\n",
        "b. 5\r\n",
        "c. 6\r\n",
        "d. 4\"\"\"\r\n",
        "q3 = \"\"\"Türk bayrağında hangisi bulunur?\r\n",
        "a. Daire\r\n",
        "b. Yıldız\r\n",
        "c. Üçgen\r\n",
        "d. Dikdörtgen\"\"\"\r\n",
        "q4 = \"\"\"Türk alfabesinde kaç harf bulunur?\r\n",
        "a. 29\r\n",
        "b. 28\r\n",
        "c. 27\r\n",
        "d.30\"\"\"\r\n",
        "q5 = \"\"\"Türkçe alfabe hangi harfle başlar?\r\n",
        "a. D\r\n",
        "b. C\r\n",
        "c. B\r\n",
        "d. A\"\"\"\r\n",
        "q6 = \"\"\"Türkçe alfabe hangi harfle biter?\r\n",
        "a. Z\r\n",
        "b. F\r\n",
        "c. X\r\n",
        "d. Q\"\"\"\r\n",
        "q7 = \"\"\"Domates hangi renktir?\r\n",
        "a. Mor\r\n",
        "b. Siyah\r\n",
        "c. Kahverengi\r\n",
        "d. Kırmızı\"\"\"\r\n",
        "q8 = \"\"\"Armut hangi renktir?\r\n",
        "a. Yeşil\r\n",
        "b. Kırmızı\r\n",
        "c. Pembe\r\n",
        "d. Siyah\"\"\"\r\n",
        "q9 = \"\"\"Portakal hangi renktir?\r\n",
        "a. Turuncu\r\n",
        "b. Mavi\r\n",
        "c. Kırmızı\r\n",
        "d. Pembe\"\"\"\r\n",
        "q10 = \"\"\"Güneş hangi renk gözükür?\r\n",
        "a. Sarı\r\n",
        "b. Mor\r\n",
        "c. Pembe\r\n",
        "d. Siyah\"\"\"\r\n",
        "\r\n",
        "questions = {q1:\"d\", q2:\"d\", q3:\"b\",q4:\"a\",q5:\"d\",q6:\"a\",q7:\"d\",q8:\"a\",q9:\"a\",q10:\"a\"}\r\n",
        "\r\n",
        "name = input(\"Lütfen İsminizi Giriniz: \")\r\n",
        "print(\"Merhaba\", name.capitalize(),\"bilgi yarışmasına hoşgeldin\")\r\n",
        "score = 0\r\n",
        "counter = 0\r\n",
        "answers = list(questions.values())\r\n",
        "for i in questions:\r\n",
        "  print(i)\r\n",
        "  answer = input(\"Lütfen Soruya Ait Şıkkı Giriniz (a/b/c/d): \")\r\n",
        "  if answer.lower() == answers[counter].lower():\r\n",
        "      print(\"Doğru cevabı buldunuz, 10 puan kazandınız.\")\r\n",
        "      score = score + 10\r\n",
        "      print(\"Şuanki puan:\", score)\r\n",
        "  else: \r\n",
        "    print(\"Yanlış cevap.\")\r\n",
        "    print(\"Şuanki puan:\", score)\r\n",
        "  counter += 1\r\n",
        "print(\"Toplam puan:\", score)\r\n",
        "\r\n",
        "for i in [score]: \r\n",
        "  if score <= 50:\r\n",
        "    print(\"Başarısız oldun, başka sefere\", name.capitalize())\r\n",
        "  else:\r\n",
        "    print(\"Tebrikler\", name.capitalize() + \",\", \"başarılı oldun.\")"
      ],
      "execution_count": null,
      "outputs": []
    }
  ]
}