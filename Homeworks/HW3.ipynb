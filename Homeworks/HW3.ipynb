{
  "nbformat": 4,
  "nbformat_minor": 0,
  "metadata": {
    "colab": {
      "name": "HW3",
      "provenance": [],
      "authorship_tag": "ABX9TyMjLtCif+Y6LLzGFin1niv1",
      "include_colab_link": true
    },
    "kernelspec": {
      "name": "python3",
      "display_name": "Python 3"
    }
  },
  "cells": [
    {
      "cell_type": "markdown",
      "metadata": {
        "id": "view-in-github",
        "colab_type": "text"
      },
      "source": [
        "<a href=\"https://colab.research.google.com/github/OrhanFaruk/GAIH-Orhan-Faruk-Repo/blob/main/HW3.ipynb\" target=\"_parent\"><img src=\"https://colab.research.google.com/assets/colab-badge.svg\" alt=\"Open In Colab\"/></a>"
      ]
    },
    {
      "cell_type": "code",
      "metadata": {
        "id": "tE2gR7KB193v"
      },
      "source": [
        "studentList = []\r\n",
        "for index in range(5):\r\n",
        "  ad_soyad = input(\"ADINIZI GİRİN\")\r\n",
        "  midterm_not = float(input(\"MIDTERM NOT GİR\")) * 0.3\r\n",
        "  proje_not = float(input(\"PROJE NOT GİR\")) * 0.3 \r\n",
        "  final_not = float(input(\"FİNAL NOT GİR\")) * 0.4\r\n",
        "  studentList.append({\r\n",
        "    \"AD-SOYAD\" : ad_soyad,\r\n",
        "    \"MIDTERM NOTU\" : midterm_not * 10/3,\r\n",
        "    \"PROJE NOTU\" : proje_not * 10/3,\r\n",
        "    \"FINAL NOTU\" : final_not * 10/4,\r\n",
        "    \"GEÇİŞ NOTU\" : midterm_not  + proje_not  + final_not \r\n",
        "})\r\n",
        "\r\n",
        "print(studentList)"
      ],
      "execution_count": null,
      "outputs": []
    }
  ]
}
