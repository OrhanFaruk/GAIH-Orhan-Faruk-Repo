{
  "nbformat": 4,
  "nbformat_minor": 0,
  "metadata": {
    "colab": {
      "name": "HW2",
      "provenance": [],
      "authorship_tag": "ABX9TyO7K2BYeDTWzh8LrND7Xa/G",
      "include_colab_link": true
    },
    "kernelspec": {
      "name": "python3",
      "display_name": "Python 3"
    }
  },
  "cells": [
    {
      "cell_type": "markdown",
      "metadata": {
        "id": "view-in-github",
        "colab_type": "text"
      },
      "source": [
        "<a href=\"https://colab.research.google.com/github/OrhanFaruk/GAIH-Orhan-Faruk-Repo/blob/main/HW2.ipynb\" target=\"_parent\"><img src=\"https://colab.research.google.com/assets/colab-badge.svg\" alt=\"Open In Colab\"/></a>"
      ]
    },
    {
      "cell_type": "code",
      "metadata": {
        "id": "EWg2rME9MvQ8"
      },
      "source": [
        "birinci_cv = {\r\n",
        "    \"ADI SOYADI\" : input(\"Adınız Soyadınız : \"),\r\n",
        "    \"TC KİMLİK NO\" : input(\"TC KİMLİK NO : \"),\r\n",
        "    \"DOĞUM YERİ\" : input(\"DOĞUM YERİ : \"),\r\n",
        "    \"İŞ DENEYİMİ\": input(\"İŞ DENEYİMİ : \"),\r\n",
        "    \"KURS VE SEMİNERLER\" : input(\"KURS VE SEMİNERLER : \"),\r\n",
        "}\r\n",
        "\r\n",
        "print(birinci_cv)\r\n",
        "\r\n",
        "ikinci_cv = {\r\n",
        "    \"ADI SOYADI\" : input(\"Adınız Soyadınız : \"),\r\n",
        "    \"TC KİMLİK NO\" : input(\"TC KİMLİK NO : \"),\r\n",
        "    \"DOĞUM YERİ\" : input(\"DOĞUM YERİ : \"),\r\n",
        "    \"İŞ DENEYİMİ\": input(\"İŞ DENEYİMİ : \"),\r\n",
        "    \"KURS VE SEMİNERLER\" : input(\"KURS VE SEMİNERLER : \"),\r\n",
        "}\r\n",
        "\r\n",
        "print(ikinci_cv)\r\n",
        "\r\n",
        "üçüncü_cv = {\r\n",
        "    \"ADI SOYADI\" : input(\"Adınız Soyadınız : \"),\r\n",
        "    \"TC KİMLİK NO\" : input(\"TC KİMLİK NO : \"),\r\n",
        "    \"DOĞUM YERİ\" : input(\"DOĞUM YERİ : \"),\r\n",
        "    \"İŞ DENEYİMİ\": input(\"İŞ DENEYİMİ : \"),\r\n",
        "    \"KURS VE SEMİNERLER\" : input(\"KURS VE SEMİNERLER : \"),\r\n",
        "}\r\n",
        "\r\n",
        "print(üçüncü_cv)\r\n",
        "\r\n",
        "dördüncü_cv = {\r\n",
        "    \"ADI SOYADI\" : input(\"Adınız Soyadınız : \"),\r\n",
        "    \"TC KİMLİK NO\" : input(\"TC KİMLİK NO : \"),\r\n",
        "    \"DOĞUM YERİ\" : input(\"DOĞUM YERİ : \"),\r\n",
        "    \"İŞ DENEYİMİ\": input(\"İŞ DENEYİMİ : \"),\r\n",
        "    \"KURS VE SEMİNERLER\" : input(\"KURS VE SEMİNERLER : \"),\r\n",
        "}\r\n",
        "\r\n",
        "print(dördüncü_cv)\r\n",
        "\r\n",
        "beşinci_cv = {\r\n",
        "    \"ADI SOYADI\" : input(\"Adınız Soyadınız : \"),\r\n",
        "    \"TC KİMLİK NO\" : input(\"TC KİMLİK NO : \"),\r\n",
        "    \"DOĞUM YERİ\" : input(\"DOĞUM YERİ : \"),\r\n",
        "    \"İŞ DENEYİMİ\": input(\"İŞ DENEYİMİ : \"),\r\n",
        "    \"KURS VE SEMİNERLER\" : input(\"KURS VE SEMİNERLER : \"),\r\n",
        "}\r\n",
        "\r\n",
        "print(beşinci_cv)\r\n"
      ],
      "execution_count": null,
      "outputs": []
    }
  ]
}
