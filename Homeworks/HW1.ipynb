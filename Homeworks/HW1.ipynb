{
  "nbformat": 4,
  "nbformat_minor": 0,
  "metadata": {
    "colab": {
      "name": "HW1",
      "provenance": [],
      "authorship_tag": "ABX9TyOjjwgCRLkYyrd4RPtrE33q",
      "include_colab_link": true
    },
    "kernelspec": {
      "name": "python3",
      "display_name": "Python 3"
    }
  },
  "cells": [
    {
      "cell_type": "markdown",
      "metadata": {
        "id": "view-in-github",
        "colab_type": "text"
      },
      "source": [
        "<a href=\"https://colab.research.google.com/github/OrhanFaruk/GAIH-Orhan-Faruk-Repo/blob/main/HW1.ipynb\" target=\"_parent\"><img src=\"https://colab.research.google.com/assets/colab-badge.svg\" alt=\"Open In Colab\"/></a>"
      ]
    },
    {
      "cell_type": "code",
      "metadata": {
        "id": "ePZjj_GTCtCa"
      },
      "source": [
        "odd_numbers = list(range(200))[1::2]\r\n",
        "even_numbers = list(range(200))[2::2]\r\n",
        "yeni_liste = odd_numbers + even_numbers\r\n",
        "\r\n",
        "print(odd_numbers)\r\n",
        "\r\n",
        "print(even_numbers)\r\n",
        "\r\n",
        "print(yeni_liste)\r\n",
        "\r\n",
        "multiply= []\r\n",
        "for i in yeni_liste:\r\n",
        "  multiply.append(i*2)\r\n",
        "\r\n",
        "print(multiply)\r\n",
        "\r\n",
        "for item in multiply:\r\n",
        "  print ('{}  {}' .format(item, type(item)))\r\n"
      ],
      "execution_count": null,
      "outputs": []
    }
  ]
}
